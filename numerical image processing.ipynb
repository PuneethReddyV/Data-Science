{
 "cells": [
  {
   "cell_type": "code",
   "execution_count": 120,
   "metadata": {},
   "outputs": [],
   "source": [
    "import numpy as np\n",
    "import tensorflow as tf\n",
    "import tflearn\n",
    "import tflearn.datasets.mnist as mnist\n",
    "import matplotlib.pyplot as plt"
   ]
  },
  {
   "cell_type": "code",
   "execution_count": 121,
   "metadata": {},
   "outputs": [
    {
     "name": "stdout",
     "output_type": "stream",
     "text": [
      "Extracting mnist/train-images-idx3-ubyte.gz\n",
      "Extracting mnist/train-labels-idx1-ubyte.gz\n",
      "Extracting mnist/t10k-images-idx3-ubyte.gz\n",
      "Extracting mnist/t10k-labels-idx1-ubyte.gz\n"
     ]
    }
   ],
   "source": [
    "## Shape of datsets - 55000 (image) , 28 X 28 ( each image is 28 X 28)\n",
    "trainX, trainY, testX, testY = mnist.load_data(one_hot = True)"
   ]
  },
  {
   "cell_type": "code",
   "execution_count": 122,
   "metadata": {},
   "outputs": [
    {
     "data": {
      "image/png": "[encoded data removed]",
      "text/plain": [
       "<matplotlib.figure.Figure at 0x21900645358>"
      ]
     },
     "metadata": {},
     "output_type": "display_data"
    }
   ],
   "source": [
    "def display_pic(index):\n",
    "    image = trainX[index].reshape([28,28])\n",
    "    plt.imshow(image, cmap='gray_r')\n",
    "    plt.show()\n",
    "\n",
    "display_pic(0)"
   ]
  },
  {
   "cell_type": "code",
   "execution_count": 123,
   "metadata": {},
   "outputs": [
    {
     "data": {
      "text/plain": [
       "(10000, 784)"
      ]
     },
     "execution_count": 123,
     "metadata": {},
     "output_type": "execute_result"
    }
   ],
   "source": [
    "testX.shape"
   ]
  },
  {
   "cell_type": "code",
   "execution_count": 124,
   "metadata": {
    "collapsed": true
   },
   "outputs": [],
   "source": [
    "def build_model(no_of_nodes):\n",
    "    tf.reset_default_graph()\n",
    "    \n",
    "    #Inputs\n",
    "    net = tflearn.input_data([None, trainX.shape[1]])\n",
    "    \n",
    "    #Hidden layers\n",
    "    for i in no_of_nodes:\n",
    "        net = tflearn.fully_connected(net, i, activation='ReLU')\n",
    "        #net = tflearn.fully_connected(net, no_of_nodes[i], activation='ReLU')\n",
    "    \n",
    "    #Output Layer & training model\n",
    "    #activation for output layer is softmax\n",
    "    #\n",
    "    net = tflearn.fully_connected(net,10, activation='softmax')\n",
    "    net = tflearn.regression(net, optimizer='sgd', learning_rate=0.01, loss='categorical_crossentropy')\n",
    "    \n",
    "    model = tflearn.DNN(net)\n",
    "    return model\n"
   ]
  },
  {
   "cell_type": "code",
   "execution_count": 125,
   "metadata": {},
   "outputs": [
    {
     "name": "stdout",
     "output_type": "stream",
     "text": [
      "[[32, 16], [16, 8, 32], [8, 16, 32, 64], [4, 8, 16, 32, 64, 128], [128, 64, 32, 16, 8], [128, 64, 32, 16], [128, 64, 32], [32, 16, 8]]\n"
     ]
    }
   ],
   "source": [
    "layers_to_nodes_mapping = [[32,16],[16,8,32], [8,16,32,64],[4,8,16,32,64,128], [128,64,32,16,8],[128,64,32,16],[128,64,32],[32,16,8]]\n",
    "print(layers_to_nodes_mapping)"
   ]
  },
  {
   "cell_type": "code",
   "execution_count": null,
   "metadata": {
    "scrolled": true
   },
   "outputs": [
    {
     "name": "stdout",
     "output_type": "stream",
     "text": [
      "Training Step: 3638  | total loss: \u001b[1m\u001b[32m2.30157\u001b[0m\u001b[0m | time: 1.522s\n",
      "\u001b[2K\r",
      "| SGD | epoch: 008 | loss: 2.30157 - acc: 0.1133 -- iter: 17300/49500\n"
     ]
    }
   ],
   "source": [
    "output = []\n",
    "for lt in layers_to_nodes_mapping:\n",
    "    model = build_model(lt)\n",
    "    model.fit(trainX,trainY, validation_set=0.1, show_metric=True, batch_size=100, n_epoch=100)\n",
    "    pred = np.argmax(model.predict(testX), axis=1)\n",
    "    actu = np.argmax(testY, axis=1)\n",
    "    print(sum(pred == actu))\n",
    "    output.append([lt,sum(pred==actu)])\n"
   ]
  },
  {
   "cell_type": "code",
   "execution_count": 118,
   "metadata": {},
   "outputs": [
    {
     "name": "stdout",
     "output_type": "stream",
     "text": [
      "[[[32, 16], 9597], [[16, 8, 32], 8626], [[8, 16, 32, 64], 1135], [[4, 8, 16, 32, 64, 128], 1135], [[128, 64, 32, 16, 8], 1135], [[128, 64, 32, 16], 1135], [[128, 64, 32], 9585], [[32, 16, 8], 8334]]\n",
      "32_16  --> 9597\n",
      "16_8_32  --> 8626\n",
      "8_16_32_64  --> 1135\n",
      "4_8_16_32_64_128  --> 1135\n",
      "128_64_32_16_8  --> 1135\n",
      "128_64_32_16  --> 1135\n",
      "128_64_32  --> 9585\n",
      "32_16_8  --> 8334\n"
     ]
    },
    {
     "data": {
      "text/plain": [
       "<matplotlib.figure.Figure at 0x219004e90b8>"
      ]
     },
     "metadata": {},
     "output_type": "display_data"
    },
    {
     "data": {
      "image/png": "[encoded data removed]",
      "text/plain": [
       "<matplotlib.figure.Figure at 0x219010faac8>"
      ]
     },
     "metadata": {},
     "output_type": "display_data"
    }
   ],
   "source": [
    "plt.figure(figsize=(10, 6), dpi=80)\n",
    "print(output)\n",
    "no_of_nodes = [len(i[0]) for i in output]\n",
    "no_of_success = [i[1] for i in output]\n",
    "point_text = [ \"_\".join(str(x) for x in i[0]) for i in output]\n",
    "\n",
    "\n",
    "fig, ax = plt.subplots()\n",
    "ax.scatter(no_of_nodes, no_of_success)\n",
    "\n",
    "for i, txt in enumerate(point_text):\n",
    "    print(txt,\" -->\", no_of_success[i])\n",
    "    ax.annotate(txt, (no_of_nodes[i],no_of_success[i]))\n",
    "\n",
    "\n",
    "\n",
    "plt.ylabel(\"Success Count\")\n",
    "plt.xlabel(\"Virtual Nodes\")\n",
    "    \n",
    "plt.savefig('AI with nodes')\n",
    "plt.show()"
   ]
  },
  {
   "cell_type": "code",
   "execution_count": null,
   "metadata": {
    "collapsed": true
   },
   "outputs": [],
   "source": []
  },
  {
   "cell_type": "code",
   "execution_count": null,
   "metadata": {
    "collapsed": true
   },
   "outputs": [],
   "source": []
  }
 ],
 "metadata": {
  "kernelspec": {
   "display_name": "Python 3",
   "language": "python",
   "name": "python3"
  },
  "language_info": {
   "codemirror_mode": {
    "name": "ipython",
    "version": 3
   },
   "file_extension": ".py",
   "mimetype": "text/x-python",
   "name": "python",
   "nbconvert_exporter": "python",
   "pygments_lexer": "ipython3",
   "version": "3.6.1"
  }
 },
 "nbformat": 4,
 "nbformat_minor": 2
}
